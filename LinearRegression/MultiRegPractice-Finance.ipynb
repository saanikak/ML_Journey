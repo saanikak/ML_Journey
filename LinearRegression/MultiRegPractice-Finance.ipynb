{
 "cells": [
  {
   "cell_type": "code",
   "execution_count": 89,
   "metadata": {},
   "outputs": [],
   "source": [
    "#https://code.datasciencedojo.com/datasciencedojo/datasets/blob/master/Istanbul%20Stock%20Exchange/README.md\n",
    "\n",
    "import pandas as pd\n",
    "import numpy as np\n",
    "import matplotlib.pyplot as plt\n",
    "import seaborn as sns\n"
   ]
  },
  {
   "cell_type": "code",
   "execution_count": 90,
   "metadata": {},
   "outputs": [],
   "source": [
    "df = pd.read_excel('/Users/saanikak/Documents/Learning/MLBootcamp/Datasets/data_akbilgic.xlsx')"
   ]
  },
  {
   "cell_type": "code",
   "execution_count": 91,
   "metadata": {},
   "outputs": [
    {
     "data": {
      "text/html": [
       "<div>\n",
       "<style scoped>\n",
       "    .dataframe tbody tr th:only-of-type {\n",
       "        vertical-align: middle;\n",
       "    }\n",
       "\n",
       "    .dataframe tbody tr th {\n",
       "        vertical-align: top;\n",
       "    }\n",
       "\n",
       "    .dataframe thead th {\n",
       "        text-align: right;\n",
       "    }\n",
       "</style>\n",
       "<table border=\"1\" class=\"dataframe\">\n",
       "  <thead>\n",
       "    <tr style=\"text-align: right;\">\n",
       "      <th></th>\n",
       "      <th>Unnamed: 0</th>\n",
       "      <th>TL BASED</th>\n",
       "      <th>USD BASED</th>\n",
       "      <th>imkb_x</th>\n",
       "      <th>Unnamed: 4</th>\n",
       "      <th>Unnamed: 5</th>\n",
       "      <th>Unnamed: 6</th>\n",
       "      <th>Unnamed: 7</th>\n",
       "      <th>Unnamed: 8</th>\n",
       "      <th>Unnamed: 9</th>\n",
       "    </tr>\n",
       "  </thead>\n",
       "  <tbody>\n",
       "    <tr>\n",
       "      <th>0</th>\n",
       "      <td>date</td>\n",
       "      <td>ISE</td>\n",
       "      <td>ISE</td>\n",
       "      <td>SP</td>\n",
       "      <td>DAX</td>\n",
       "      <td>FTSE</td>\n",
       "      <td>NIKKEI</td>\n",
       "      <td>BOVESPA</td>\n",
       "      <td>EU</td>\n",
       "      <td>EM</td>\n",
       "    </tr>\n",
       "    <tr>\n",
       "      <th>1</th>\n",
       "      <td>2009-01-05 00:00:00</td>\n",
       "      <td>0.0357537</td>\n",
       "      <td>0.0383762</td>\n",
       "      <td>-0.00467931</td>\n",
       "      <td>0.00219342</td>\n",
       "      <td>0.00389438</td>\n",
       "      <td>0</td>\n",
       "      <td>0.0311902</td>\n",
       "      <td>0.012698</td>\n",
       "      <td>0.0285245</td>\n",
       "    </tr>\n",
       "    <tr>\n",
       "      <th>2</th>\n",
       "      <td>2009-01-06 00:00:00</td>\n",
       "      <td>0.0254259</td>\n",
       "      <td>0.0318127</td>\n",
       "      <td>0.00778674</td>\n",
       "      <td>0.00845534</td>\n",
       "      <td>0.0128656</td>\n",
       "      <td>0.00416245</td>\n",
       "      <td>0.0189196</td>\n",
       "      <td>0.0113407</td>\n",
       "      <td>0.00877264</td>\n",
       "    </tr>\n",
       "    <tr>\n",
       "      <th>3</th>\n",
       "      <td>2009-01-07 00:00:00</td>\n",
       "      <td>-0.0288617</td>\n",
       "      <td>-0.026353</td>\n",
       "      <td>-0.0304691</td>\n",
       "      <td>-0.0178331</td>\n",
       "      <td>-0.0287346</td>\n",
       "      <td>0.0172929</td>\n",
       "      <td>-0.0358986</td>\n",
       "      <td>-0.0170728</td>\n",
       "      <td>-0.0200154</td>\n",
       "    </tr>\n",
       "    <tr>\n",
       "      <th>4</th>\n",
       "      <td>2009-01-08 00:00:00</td>\n",
       "      <td>-0.0622081</td>\n",
       "      <td>-0.0847159</td>\n",
       "      <td>0.00339136</td>\n",
       "      <td>-0.0117263</td>\n",
       "      <td>-0.000465999</td>\n",
       "      <td>-0.0400613</td>\n",
       "      <td>0.0282832</td>\n",
       "      <td>-0.00556096</td>\n",
       "      <td>-0.0194238</td>\n",
       "    </tr>\n",
       "  </tbody>\n",
       "</table>\n",
       "</div>"
      ],
      "text/plain": [
       "            Unnamed: 0   TL BASED  USD BASED      imkb_x  Unnamed: 4  \\\n",
       "0                 date        ISE        ISE          SP         DAX   \n",
       "1  2009-01-05 00:00:00  0.0357537  0.0383762 -0.00467931  0.00219342   \n",
       "2  2009-01-06 00:00:00  0.0254259  0.0318127  0.00778674  0.00845534   \n",
       "3  2009-01-07 00:00:00 -0.0288617  -0.026353  -0.0304691  -0.0178331   \n",
       "4  2009-01-08 00:00:00 -0.0622081 -0.0847159  0.00339136  -0.0117263   \n",
       "\n",
       "    Unnamed: 5  Unnamed: 6 Unnamed: 7  Unnamed: 8  Unnamed: 9  \n",
       "0         FTSE      NIKKEI    BOVESPA          EU          EM  \n",
       "1   0.00389438           0  0.0311902    0.012698   0.0285245  \n",
       "2    0.0128656  0.00416245  0.0189196   0.0113407  0.00877264  \n",
       "3   -0.0287346   0.0172929 -0.0358986  -0.0170728  -0.0200154  \n",
       "4 -0.000465999  -0.0400613  0.0282832 -0.00556096  -0.0194238  "
      ]
     },
     "execution_count": 91,
     "metadata": {},
     "output_type": "execute_result"
    }
   ],
   "source": [
    "df.head()"
   ]
  },
  {
   "cell_type": "code",
   "execution_count": 92,
   "metadata": {},
   "outputs": [
    {
     "data": {
      "text/plain": [
       "Index(['Unnamed: 0', 'TL BASED', 'USD BASED', 'imkb_x', 'Unnamed: 4',\n",
       "       'Unnamed: 5', 'Unnamed: 6', 'Unnamed: 7', 'Unnamed: 8', 'Unnamed: 9'],\n",
       "      dtype='object')"
      ]
     },
     "execution_count": 92,
     "metadata": {},
     "output_type": "execute_result"
    }
   ],
   "source": [
    "df.columns"
   ]
  },
  {
   "cell_type": "code",
   "execution_count": 93,
   "metadata": {},
   "outputs": [],
   "source": [
    "df = df.rename(columns = {'Unnamed: 0': 'Date', \n",
    "                         'TL BASED': 'ISE', \n",
    "                         'USD BASED': 'ISE_Index', \n",
    "                         'imkb_x': 'SP', \n",
    "                         'Unnamed: 4': 'DAX', \n",
    "                         'Unnamed: 5': 'FTSE', \n",
    "                          'Unnamed: 6': 'NIKKEI', \n",
    "                          'Unnamed: 7': 'BOVESPA', \n",
    "                          'Unnamed: 8': 'EU', \n",
    "                          'Unnamed: 9': 'EM'\n",
    "                         \n",
    "                         })"
   ]
  },
  {
   "cell_type": "code",
   "execution_count": 94,
   "metadata": {},
   "outputs": [],
   "source": [
    "df = df.iloc[1::, :]"
   ]
  },
  {
   "cell_type": "code",
   "execution_count": 95,
   "metadata": {},
   "outputs": [],
   "source": [
    "cols_to_drop = ['Date']\n",
    "df.drop(cols_to_drop, axis = 1, inplace = True)"
   ]
  },
  {
   "cell_type": "code",
   "execution_count": 96,
   "metadata": {},
   "outputs": [
    {
     "name": "stdout",
     "output_type": "stream",
     "text": [
      "<class 'pandas.core.frame.DataFrame'>\n",
      "RangeIndex: 536 entries, 1 to 536\n",
      "Data columns (total 9 columns):\n",
      " #   Column     Non-Null Count  Dtype \n",
      "---  ------     --------------  ----- \n",
      " 0   ISE        536 non-null    object\n",
      " 1   ISE_Index  536 non-null    object\n",
      " 2   SP         536 non-null    object\n",
      " 3   DAX        536 non-null    object\n",
      " 4   FTSE       536 non-null    object\n",
      " 5   NIKKEI     536 non-null    object\n",
      " 6   BOVESPA    536 non-null    object\n",
      " 7   EU         536 non-null    object\n",
      " 8   EM         536 non-null    object\n",
      "dtypes: object(9)\n",
      "memory usage: 37.8+ KB\n"
     ]
    }
   ],
   "source": [
    "df.info()"
   ]
  },
  {
   "cell_type": "code",
   "execution_count": 97,
   "metadata": {},
   "outputs": [],
   "source": [
    "df['ISE'] = df['ISE'].astype(float)\n",
    "df['ISE_Index'] = df['ISE_Index'].astype(float)\n",
    "df['SP'] = df['SP'].astype(float)\n",
    "df['DAX'] = df['DAX'].astype(float)\n",
    "df['FTSE'] = df['FTSE'].astype(float)\n",
    "df['NIKKEI'] = df['NIKKEI'].astype(float)\n",
    "df['BOVESPA'] = df['BOVESPA'].astype(float)\n",
    "df['EU'] = df['EU'].astype(float)\n",
    "df['EM'] = df['EM'].astype(float)"
   ]
  },
  {
   "cell_type": "code",
   "execution_count": 98,
   "metadata": {},
   "outputs": [
    {
     "name": "stdout",
     "output_type": "stream",
     "text": [
      "<class 'pandas.core.frame.DataFrame'>\n",
      "RangeIndex: 536 entries, 1 to 536\n",
      "Data columns (total 9 columns):\n",
      " #   Column     Non-Null Count  Dtype  \n",
      "---  ------     --------------  -----  \n",
      " 0   ISE        536 non-null    float64\n",
      " 1   ISE_Index  536 non-null    float64\n",
      " 2   SP         536 non-null    float64\n",
      " 3   DAX        536 non-null    float64\n",
      " 4   FTSE       536 non-null    float64\n",
      " 5   NIKKEI     536 non-null    float64\n",
      " 6   BOVESPA    536 non-null    float64\n",
      " 7   EU         536 non-null    float64\n",
      " 8   EM         536 non-null    float64\n",
      "dtypes: float64(9)\n",
      "memory usage: 37.8 KB\n"
     ]
    }
   ],
   "source": [
    "df.info()"
   ]
  },
  {
   "cell_type": "code",
   "execution_count": 99,
   "metadata": {},
   "outputs": [
    {
     "data": {
      "image/png": "[encoded data removed]",
      "text/plain": [
       "<Figure size 1440x720 with 2 Axes>"
      ]
     },
     "metadata": {
      "needs_background": "light"
     },
     "output_type": "display_data"
    }
   ],
   "source": [
    "plt.figure(figsize = (20, 10))\n",
    "sns.heatmap(df.corr(), annot = True)\n",
    "plt.show()"
   ]
  },
  {
   "cell_type": "code",
   "execution_count": 105,
   "metadata": {},
   "outputs": [],
   "source": [
    "cols_to_include = df.drop('ISE', axis = 1).columns[:]\n",
    "X = df.loc[:, cols_to_include].values\n",
    "y = df['ISE'].values\n",
    "\n",
    "from sklearn.model_selection import train_test_split\n",
    "X_train, X_test, y_train, y_test = train_test_split(X, y, test_size = 0.3, random_state = 0)"
   ]
  },
  {
   "cell_type": "code",
   "execution_count": 106,
   "metadata": {},
   "outputs": [
    {
     "data": {
      "text/plain": [
       "LinearRegression()"
      ]
     },
     "execution_count": 106,
     "metadata": {},
     "output_type": "execute_result"
    }
   ],
   "source": [
    "# print(X_train.shape)\n",
    "# print(X_test.shape)\n",
    "# print(y_train.shape)\n",
    "# print(y_test.shape)\n",
    "\n",
    "from sklearn.linear_model import LinearRegression\n",
    "regressor = LinearRegression()\n",
    "regressor.fit(X_train, y_train)\n",
    "\n",
    "# regressor.coef_[0][2]"
   ]
  },
  {
   "cell_type": "code",
   "execution_count": 107,
   "metadata": {},
   "outputs": [
    {
     "data": {
      "text/plain": [
       "array([ 0.01, -0.01, -0.01,  0.  ,  0.01, -0.02, -0.02,  0.01, -0.  ,\n",
       "        0.01,  0.01, -0.01,  0.  ,  0.01,  0.01, -0.01,  0.  ,  0.02,\n",
       "        0.02,  0.03,  0.02, -0.01,  0.03,  0.  ,  0.02, -0.02,  0.  ,\n",
       "        0.  , -0.01,  0.05, -0.  , -0.03,  0.03, -0.02,  0.03,  0.03,\n",
       "       -0.02,  0.01,  0.01,  0.01,  0.02,  0.01, -0.  ,  0.01, -0.02,\n",
       "       -0.01,  0.  , -0.03, -0.06,  0.02, -0.01, -0.01,  0.02,  0.01,\n",
       "        0.03,  0.01,  0.  ,  0.02, -0.03, -0.  ,  0.01,  0.01, -0.  ,\n",
       "        0.01,  0.  ,  0.01, -0.01, -0.02, -0.04,  0.01,  0.01, -0.01,\n",
       "        0.01, -0.01,  0.  ,  0.  , -0.04,  0.08,  0.03,  0.01, -0.02,\n",
       "       -0.01,  0.03, -0.  ,  0.01,  0.01,  0.03,  0.  ,  0.01,  0.01,\n",
       "       -0.01,  0.01,  0.  , -0.01, -0.  ,  0.02,  0.01, -0.03,  0.02,\n",
       "        0.  , -0.  ,  0.01,  0.  ,  0.01, -0.01, -0.02,  0.01, -0.04,\n",
       "       -0.01, -0.03,  0.01, -0.01, -0.01,  0.01,  0.01,  0.  , -0.01,\n",
       "        0.01,  0.  ,  0.01,  0.01, -0.  ,  0.  ,  0.  ,  0.01, -0.  ,\n",
       "        0.  ,  0.02, -0.03,  0.  , -0.01,  0.  ,  0.01, -0.  ,  0.01,\n",
       "        0.  , -0.  , -0.  , -0.02, -0.01,  0.02, -0.01,  0.01,  0.01,\n",
       "       -0.  ,  0.  ,  0.  , -0.02,  0.  , -0.  ,  0.  ,  0.01,  0.02,\n",
       "       -0.01, -0.01,  0.01,  0.01,  0.02,  0.01,  0.02, -0.01])"
      ]
     },
     "execution_count": 107,
     "metadata": {},
     "output_type": "execute_result"
    }
   ],
   "source": [
    "y_pred = regressor.predict(X_test)\n",
    "y_pred"
   ]
  },
  {
   "cell_type": "code",
   "execution_count": 108,
   "metadata": {},
   "outputs": [
    {
     "data": {
      "text/plain": [
       "array([ 0.  , -0.01, -0.02, -0.01,  0.01, -0.02, -0.02,  0.02, -0.  ,\n",
       "        0.01,  0.01, -0.01,  0.01,  0.01,  0.  , -0.01,  0.  ,  0.02,\n",
       "        0.02,  0.02,  0.02, -0.01,  0.03,  0.  ,  0.02, -0.02,  0.  ,\n",
       "       -0.  , -0.01,  0.05, -0.  , -0.02,  0.04, -0.01,  0.03,  0.03,\n",
       "       -0.01,  0.01,  0.  ,  0.01,  0.03,  0.01, -0.  ,  0.01, -0.02,\n",
       "       -0.01,  0.  , -0.03, -0.06,  0.01,  0.  , -0.01,  0.01,  0.  ,\n",
       "        0.03,  0.01,  0.  ,  0.02, -0.01, -0.01,  0.01,  0.01, -0.01,\n",
       "        0.01,  0.01,  0.02, -0.01, -0.02, -0.03,  0.  ,  0.01,  0.  ,\n",
       "        0.  , -0.  , -0.  ,  0.01, -0.04,  0.07,  0.02,  0.01, -0.02,\n",
       "       -0.  ,  0.02,  0.  ,  0.01,  0.  ,  0.03,  0.  ,  0.  ,  0.01,\n",
       "       -0.01,  0.01,  0.  ,  0.  , -0.01,  0.02,  0.01, -0.03,  0.02,\n",
       "       -0.  , -0.  ,  0.01, -0.  ,  0.02, -0.01, -0.02,  0.01, -0.02,\n",
       "       -0.01, -0.04,  0.01, -0.  , -0.01,  0.  ,  0.01, -0.  , -0.  ,\n",
       "        0.01,  0.01,  0.01,  0.02, -0.01,  0.  ,  0.  ,  0.01,  0.  ,\n",
       "       -0.  ,  0.02, -0.04,  0.  , -0.02,  0.  ,  0.02, -0.01, -0.  ,\n",
       "        0.01,  0.  ,  0.  , -0.01, -0.  ,  0.  , -0.  ,  0.02,  0.01,\n",
       "       -0.  ,  0.  ,  0.01, -0.02,  0.02,  0.  , -0.  ,  0.01,  0.03,\n",
       "        0.01, -0.01,  0.01,  0.01,  0.01,  0.01,  0.02, -0.01])"
      ]
     },
     "execution_count": 108,
     "metadata": {},
     "output_type": "execute_result"
    }
   ],
   "source": [
    "y_test"
   ]
  },
  {
   "cell_type": "code",
   "execution_count": 111,
   "metadata": {},
   "outputs": [
    {
     "name": "stdout",
     "output_type": "stream",
     "text": [
      "[[ 0.0062059554  0.002509442 ]\n",
      " [-0.0145859371 -0.013824293 ]\n",
      " [-0.0116828183 -0.01843108  ]\n",
      " [ 0.0018617363 -0.0057746   ]\n",
      " [ 0.0127657062  0.009310309 ]\n",
      " [-0.0234723544 -0.02390659  ]\n",
      " [-0.0163748438 -0.017664432 ]\n",
      " [ 0.0086959313  0.016307467 ]\n",
      " [-0.002567851  -0.003990517 ]\n",
      " [ 0.0068086929  0.012676973 ]\n",
      " [ 0.008617968   0.008033964 ]\n",
      " [-0.0089555354 -0.010111415 ]\n",
      " [ 0.0015897842  0.013406293 ]\n",
      " [ 0.0146469264  0.012248015 ]\n",
      " [ 0.0067347245  0.004478365 ]\n",
      " [-0.0129859641 -0.010043636 ]\n",
      " [ 0.0040088064  0.002184557 ]\n",
      " [ 0.0171005662  0.019627036 ]\n",
      " [ 0.0168131633  0.019062249 ]\n",
      " [ 0.0338580918  0.024517037 ]\n",
      " [ 0.020844453   0.018495281 ]\n",
      " [-0.0063733873 -0.010180284 ]\n",
      " [ 0.0281127129  0.032511512 ]\n",
      " [ 0.0008549959  0.00167273  ]\n",
      " [ 0.0207514155  0.020219135 ]\n",
      " [-0.0205229612 -0.021815769 ]\n",
      " [ 0.0048103509  0.00322285  ]\n",
      " [ 0.0018196666 -0.002744684 ]\n",
      " [-0.0104223761 -0.007133473 ]\n",
      " [ 0.0513475847  0.046831302 ]\n",
      " [-0.0047479101 -0.002213036 ]\n",
      " [-0.0308772255 -0.02278477  ]\n",
      " [ 0.0290092034  0.036468359 ]\n",
      " [-0.0189061695 -0.012077182 ]\n",
      " [ 0.0282833836  0.034566982 ]\n",
      " [ 0.0254708372  0.028131284 ]\n",
      " [-0.019316009  -0.013108757 ]\n",
      " [ 0.0092900217  0.011235934 ]\n",
      " [ 0.0054017578  0.003891123 ]\n",
      " [ 0.0093709288  0.008616579 ]\n",
      " [ 0.0246332941  0.031414816 ]\n",
      " [ 0.0113468357  0.008218708 ]\n",
      " [-0.0039051485 -0.000811768 ]\n",
      " [ 0.0079105567  0.008987423 ]\n",
      " [-0.0181126576 -0.01632457  ]\n",
      " [-0.0130202996 -0.014082114 ]\n",
      " [ 0.0048329582  0.004782286 ]\n",
      " [-0.0337947575 -0.032005875 ]\n",
      " [-0.0563729699 -0.056752612 ]\n",
      " [ 0.0245581632  0.013453937 ]\n",
      " [-0.0056100426  0.004171479 ]\n",
      " [-0.0085932993 -0.006518816 ]\n",
      " [ 0.0193264393  0.011234009 ]\n",
      " [ 0.0088184601  0.003395986 ]\n",
      " [ 0.0318836631  0.034723686 ]\n",
      " [ 0.008497578   0.008430531 ]\n",
      " [ 0.0041999064  0.004975853 ]\n",
      " [ 0.0197178536  0.015279487 ]\n",
      " [-0.0279623398 -0.010297613 ]\n",
      " [-0.0022691935 -0.006830443 ]\n",
      " [ 0.0113112417  0.011817165 ]\n",
      " [ 0.0081213649  0.010027432 ]\n",
      " [-0.0018772602 -0.006508992 ]\n",
      " [ 0.012396274   0.014597561 ]\n",
      " [ 0.0005863703  0.006746257 ]\n",
      " [ 0.0118187924  0.021061108 ]\n",
      " [-0.0133148608 -0.014267377 ]\n",
      " [-0.0184281591 -0.016948929 ]\n",
      " [-0.0367940315 -0.030954776 ]\n",
      " [ 0.0089803876  0.004905756 ]\n",
      " [ 0.007027543   0.00845291  ]\n",
      " [-0.0065418666  0.000243026 ]\n",
      " [ 0.0066566083  0.004001644 ]\n",
      " [-0.0071116513 -0.001781987 ]\n",
      " [ 0.0004031391 -0.000920201 ]\n",
      " [ 0.0049633531  0.012326085 ]\n",
      " [-0.0355055506 -0.038389961 ]\n",
      " [ 0.0773516085  0.068951684 ]\n",
      " [ 0.0275048072  0.022138372 ]\n",
      " [ 0.0082525644  0.012567728 ]\n",
      " [-0.0216938828 -0.02447813  ]\n",
      " [-0.011705079  -0.003033665 ]\n",
      " [ 0.027965315   0.023026511 ]\n",
      " [-0.0043672523  0.000520727 ]\n",
      " [ 0.0077768527  0.011097874 ]\n",
      " [ 0.0053414505  0.004356217 ]\n",
      " [ 0.0252576636  0.025425873 ]\n",
      " [ 0.0049206291  0.00251849  ]\n",
      " [ 0.0074406136  0.000864697 ]\n",
      " [ 0.0106424851  0.006074147 ]\n",
      " [-0.0083320364 -0.007792426 ]\n",
      " [ 0.0089591503  0.009585147 ]\n",
      " [ 0.0033880406  0.003501244 ]\n",
      " [-0.0057072622  0.004548211 ]\n",
      " [-0.0049579291 -0.007161671 ]\n",
      " [ 0.0184985569  0.019908239 ]\n",
      " [ 0.0060177448  0.012852447 ]\n",
      " [-0.0267429072 -0.031914469 ]\n",
      " [ 0.0159354314  0.020479928 ]\n",
      " [ 0.0012145855 -0.00381384  ]\n",
      " [-0.0014313406 -0.004077191 ]\n",
      " [ 0.0110872805  0.011830075 ]\n",
      " [ 0.0028958426 -0.000326348 ]\n",
      " [ 0.0124357554  0.020543856 ]\n",
      " [-0.0066655815 -0.00630611  ]\n",
      " [-0.019915958  -0.015818452 ]\n",
      " [ 0.0083061037  0.013186098 ]\n",
      " [-0.0368071622 -0.022692465 ]\n",
      " [-0.0081981125 -0.006769931 ]\n",
      " [-0.0268801688 -0.035849614 ]\n",
      " [ 0.0100543836  0.010229371 ]\n",
      " [-0.0068745951 -0.000271351 ]\n",
      " [-0.0129266532 -0.014168795 ]\n",
      " [ 0.0119656976  0.000735712 ]\n",
      " [ 0.0090659293  0.007114932 ]\n",
      " [ 0.0019176989 -0.002285365 ]\n",
      " [-0.0069345585 -0.003623787 ]\n",
      " [ 0.0058195273  0.008169493 ]\n",
      " [ 0.0020957839  0.009736797 ]\n",
      " [ 0.0061419764  0.007262631 ]\n",
      " [ 0.0146962853  0.016435847 ]\n",
      " [-0.0022698071 -0.006962099 ]\n",
      " [ 0.0028922424  0.0010159   ]\n",
      " [ 0.0045445492  0.001645509 ]\n",
      " [ 0.0144126163  0.013780465 ]\n",
      " [-0.0021098063  0.000190969 ]\n",
      " [ 0.0013451484 -0.004441286 ]\n",
      " [ 0.0208627693  0.021523653 ]\n",
      " [-0.0322701048 -0.041167612 ]\n",
      " [ 0.0017699032  0.000190164 ]\n",
      " [-0.0140397226 -0.017676197 ]\n",
      " [ 0.0017671323  0.003504    ]\n",
      " [ 0.0096623536  0.02450661  ]\n",
      " [-0.0035799829 -0.006837607 ]\n",
      " [ 0.0127246445 -0.000514681 ]\n",
      " [ 0.0023441092  0.011166484 ]\n",
      " [-0.0013376654  0.004774399 ]\n",
      " [-0.0033683201  0.002918699 ]\n",
      " [-0.0208194538 -0.011494996 ]\n",
      " [-0.0093242763 -0.002934588 ]\n",
      " [ 0.0183379182  0.003213253 ]\n",
      " [-0.0079181833 -0.004209168 ]\n",
      " [ 0.0093008335  0.015960155 ]\n",
      " [ 0.0081969762  0.005987659 ]\n",
      " [-0.0022136236 -0.001432456 ]\n",
      " [ 0.0034811848  0.003298424 ]\n",
      " [ 0.0019574489  0.009330697 ]\n",
      " [-0.0236337074 -0.021780194 ]\n",
      " [ 0.0010043634  0.015445348 ]\n",
      " [-0.0025282919  0.000661905 ]\n",
      " [ 0.0021734339 -0.000807723 ]\n",
      " [ 0.0088824168  0.009915384 ]\n",
      " [ 0.0212542681  0.029039821 ]\n",
      " [-0.0050804164  0.007574225 ]\n",
      " [-0.0108776533 -0.007246324 ]\n",
      " [ 0.0111015113  0.008859545 ]\n",
      " [ 0.0111587505  0.007033826 ]\n",
      " [ 0.015043619   0.014784496 ]\n",
      " [ 0.0088936365  0.010203012 ]\n",
      " [ 0.0202269089  0.023990399 ]\n",
      " [-0.0085171399 -0.007211305 ]]\n"
     ]
    }
   ],
   "source": [
    "np.set_printoptions(precision=10)\n",
    "print(np.concatenate((y_pred.reshape(len(y_pred),1), y_test.reshape(len(y_test),1)),1))"
   ]
  }
 ],
 "metadata": {
  "kernelspec": {
   "display_name": "Python 3",
   "language": "python",
   "name": "python3"
  },
  "language_info": {
   "codemirror_mode": {
    "name": "ipython",
    "version": 3
   },
   "file_extension": ".py",
   "mimetype": "text/x-python",
   "name": "python",
   "nbconvert_exporter": "python",
   "pygments_lexer": "ipython3",
   "version": "3.8.3"
  }
 },
 "nbformat": 4,
 "nbformat_minor": 4
}
